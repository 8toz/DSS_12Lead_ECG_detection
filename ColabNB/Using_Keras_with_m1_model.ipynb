{
  "nbformat": 4,
  "nbformat_minor": 0,
  "metadata": {
    "accelerator": "GPU",
    "colab": {
      "name": "Using Keras with m1 model.ipynb",
      "provenance": [],
      "collapsed_sections": [
        "fFhth-pwqAyE",
        "gzEDbWX77b48"
      ]
    },
    "kernelspec": {
      "display_name": "Python 3",
      "name": "python3"
    }
  },
  "cells": [
    {
      "cell_type": "markdown",
      "metadata": {
        "id": "r-Dq2BxGF-Bl"
      },
      "source": [
        "# NUMERO DE PRUEBA"
      ]
    },
    {
      "cell_type": "code",
      "metadata": {
        "id": "-q9cZdekGEvP"
      },
      "source": [
        "TRIAL_NUMBER = 'modelo1_trial_100epochs'"
      ],
      "execution_count": null,
      "outputs": []
    },
    {
      "cell_type": "markdown",
      "metadata": {
        "id": "YDWlEAmswV4i"
      },
      "source": [
        "\n",
        "\n",
        "# Dependencias"
      ]
    },
    {
      "cell_type": "code",
      "metadata": {
        "id": "HZ-fLpkQwUhT",
        "colab": {
          "base_uri": "https://localhost:8080/"
        },
        "outputId": "43c27898-63af-4950-b019-eac807c2b083"
      },
      "source": [
        "from tensorflow.keras.models import Sequential, Model\n",
        "from tensorflow.keras.layers import Layer, Dense, Reshape, BatchNormalization\n",
        "from tensorflow.keras.layers import LayerNormalization, Activation, Input, Dropout, Flatten, LeakyReLU, LSTM\n",
        "from tensorflow.keras.layers import Bidirectional, TimeDistributed,Conv1D, Conv2D,Conv2DTranspose, AveragePooling1D\n",
        "from tensorflow.keras.layers import MaxPooling1D, UpSampling1D, ZeroPadding1D, Lambda, Add, Cropping1D, Embedding, Concatenate\n",
        "from tensorflow.keras.optimizers import Adam, RMSprop\n",
        "from tensorflow.keras.models import load_model,save_model\n",
        "from tensorflow.keras.losses import BinaryCrossentropy\n",
        "from keras.callbacks import EarlyStopping\n",
        "from keras.callbacks import ModelCheckpoint\n",
        "from tensorflow.keras import backend as K\n",
        "from tensorflow import convert_to_tensor\n",
        "from keras.callbacks import ReduceLROnPlateau\n",
        "\n",
        "import os, random\n",
        "import numpy as np\n",
        "import progressbar\n",
        "import tensorflow as tf\n",
        "import matplotlib.pyplot as plt\n",
        "import warnings\n",
        "import pickle\n",
        "\n",
        "from functools import partial\n",
        "from IPython import display\n",
        "from tensorflow.keras.utils import plot_model\n",
        "from scipy.io import loadmat\n",
        "from scipy.signal import butter, lfilter, resample\n",
        "import pandas as pd\n",
        "\n",
        "from sklearn.model_selection import train_test_split\n",
        "from google.colab import drive\n",
        "drive.mount('/content/drive')"
      ],
      "execution_count": null,
      "outputs": [
        {
          "output_type": "stream",
          "text": [
            "Mounted at /content/drive\n"
          ],
          "name": "stdout"
        }
      ]
    },
    {
      "cell_type": "code",
      "metadata": {
        "id": "7fOrpKIUBWP_",
        "colab": {
          "base_uri": "https://localhost:8080/"
        },
        "outputId": "10de39f4-2027-40e2-e110-4762ab488d48"
      },
      "source": [
        "#GLOBAL VARIABLES\n",
        "csv_file = pd.read_csv('/content/drive/My Drive/TFM_DATA/Dx_snomed_valid.csv', delimiter = ';')\n",
        "DATASET = 'm1.pkl'\n",
        "DRIVE_PATH = '/content/drive/My Drive/TFM_DATA/'\n",
        "RESULTS_PATH = '/content/drive/My Drive/TFM_RESULTS'\n",
        "FILE_NAME = 'trial_details.txt'\n",
        "TRIAL_PATH = str(os.path.join(RESULTS_PATH,TRIAL_NUMBER))\n",
        "\n",
        "try:\n",
        "  os.mkdir(TRIAL_PATH)\n",
        "except:\n",
        "  print(f'The file test {TRIAL_NUMBER} already exist, if you continue the\\\n",
        "  current test will be overrided, change the TRIAL_NUMBER to create a new\\\n",
        "  test.')"
      ],
      "execution_count": null,
      "outputs": [
        {
          "output_type": "stream",
          "text": [
            "The file test modelo1_trial_100epochs already exist, if you continue the  current test will be overrided, change the TRIAL_NUMBER to create a new  test.\n"
          ],
          "name": "stdout"
        }
      ]
    },
    {
      "cell_type": "markdown",
      "metadata": {
        "id": "HEFgwSYewdEw"
      },
      "source": [
        "# Clasificación"
      ]
    },
    {
      "cell_type": "code",
      "metadata": {
        "id": "81bARiNyLCq9",
        "colab": {
          "base_uri": "https://localhost:8080/"
        },
        "outputId": "cab640be-3fbc-47d7-d02d-204fdf354328"
      },
      "source": [
        "import pickle\n",
        "dataset = pickle.load(open(str(os.path.join(DRIVE_PATH, DATASET)), 'rb'))\n",
        "dataset['lead'] = dataset['lead'].astype(int)\n",
        "dataset.shape"
      ],
      "execution_count": null,
      "outputs": [
        {
          "output_type": "execute_result",
          "data": {
            "text/plain": [
              "(549801, 6)"
            ]
          },
          "metadata": {
            "tags": []
          },
          "execution_count": 4
        }
      ]
    },
    {
      "cell_type": "code",
      "metadata": {
        "colab": {
          "base_uri": "https://localhost:8080/",
          "height": 203
        },
        "id": "e1EeaBMW4wjV",
        "outputId": "ffabf52e-9619-4c51-cd15-b146c43bdcdc"
      },
      "source": [
        "dataset.head()"
      ],
      "execution_count": null,
      "outputs": [
        {
          "output_type": "execute_result",
          "data": {
            "text/html": [
              "<div>\n",
              "<style scoped>\n",
              "    .dataframe tbody tr th:only-of-type {\n",
              "        vertical-align: middle;\n",
              "    }\n",
              "\n",
              "    .dataframe tbody tr th {\n",
              "        vertical-align: top;\n",
              "    }\n",
              "\n",
              "    .dataframe thead th {\n",
              "        text-align: right;\n",
              "    }\n",
              "</style>\n",
              "<table border=\"1\" class=\"dataframe\">\n",
              "  <thead>\n",
              "    <tr style=\"text-align: right;\">\n",
              "      <th></th>\n",
              "      <th>file</th>\n",
              "      <th>age</th>\n",
              "      <th>sex</th>\n",
              "      <th>lead</th>\n",
              "      <th>ecg</th>\n",
              "      <th>class</th>\n",
              "    </tr>\n",
              "  </thead>\n",
              "  <tbody>\n",
              "    <tr>\n",
              "      <th>0</th>\n",
              "      <td>A2593</td>\n",
              "      <td>77</td>\n",
              "      <td>0</td>\n",
              "      <td>0</td>\n",
              "      <td>[0.3174895382126915, 0.5613913977688859, 0.533...</td>\n",
              "      <td>[0, 0, 0, 0, 0, 0, 0, 0, 0, 0, 0, 0, 1, 0, 0, ...</td>\n",
              "    </tr>\n",
              "    <tr>\n",
              "      <th>1</th>\n",
              "      <td>A2593</td>\n",
              "      <td>77</td>\n",
              "      <td>0</td>\n",
              "      <td>0</td>\n",
              "      <td>[0.16593204474768233, 0.1653932937071092, 0.15...</td>\n",
              "      <td>[0, 0, 0, 0, 0, 0, 0, 0, 0, 0, 0, 0, 1, 0, 0, ...</td>\n",
              "    </tr>\n",
              "    <tr>\n",
              "      <th>2</th>\n",
              "      <td>A2593</td>\n",
              "      <td>77</td>\n",
              "      <td>0</td>\n",
              "      <td>0</td>\n",
              "      <td>[0.19389642099122834, 0.23133741213525108, 0.2...</td>\n",
              "      <td>[0, 0, 0, 0, 0, 0, 0, 0, 0, 0, 0, 0, 1, 0, 0, ...</td>\n",
              "    </tr>\n",
              "    <tr>\n",
              "      <th>3</th>\n",
              "      <td>A2593</td>\n",
              "      <td>77</td>\n",
              "      <td>0</td>\n",
              "      <td>0</td>\n",
              "      <td>[0.15553755632018673, 0.08410038837372408, 0.1...</td>\n",
              "      <td>[0, 0, 0, 0, 0, 0, 0, 0, 0, 0, 0, 0, 1, 0, 0, ...</td>\n",
              "    </tr>\n",
              "    <tr>\n",
              "      <th>4</th>\n",
              "      <td>A2593</td>\n",
              "      <td>77</td>\n",
              "      <td>0</td>\n",
              "      <td>0</td>\n",
              "      <td>[0.12561890850507518, 0.13566250040069652, 0.1...</td>\n",
              "      <td>[0, 0, 0, 0, 0, 0, 0, 0, 0, 0, 0, 0, 1, 0, 0, ...</td>\n",
              "    </tr>\n",
              "  </tbody>\n",
              "</table>\n",
              "</div>"
            ],
            "text/plain": [
              "    file  ...                                              class\n",
              "0  A2593  ...  [0, 0, 0, 0, 0, 0, 0, 0, 0, 0, 0, 0, 1, 0, 0, ...\n",
              "1  A2593  ...  [0, 0, 0, 0, 0, 0, 0, 0, 0, 0, 0, 0, 1, 0, 0, ...\n",
              "2  A2593  ...  [0, 0, 0, 0, 0, 0, 0, 0, 0, 0, 0, 0, 1, 0, 0, ...\n",
              "3  A2593  ...  [0, 0, 0, 0, 0, 0, 0, 0, 0, 0, 0, 0, 1, 0, 0, ...\n",
              "4  A2593  ...  [0, 0, 0, 0, 0, 0, 0, 0, 0, 0, 0, 0, 1, 0, 0, ...\n",
              "\n",
              "[5 rows x 6 columns]"
            ]
          },
          "metadata": {
            "tags": []
          },
          "execution_count": 5
        }
      ]
    },
    {
      "cell_type": "markdown",
      "metadata": {
        "id": "HrIQG6yiJ_6a"
      },
      "source": [
        "# Train Validation Test Splitting"
      ]
    },
    {
      "cell_type": "code",
      "metadata": {
        "id": "PSBvnXDDIwT9"
      },
      "source": [
        "def transform_dims(sample):\n",
        "  lista = []\n",
        "  [lista.append(x) for x in sample]\n",
        "  lista = np.array(lista)\n",
        "  \n",
        "  return lista"
      ],
      "execution_count": null,
      "outputs": []
    },
    {
      "cell_type": "code",
      "metadata": {
        "id": "QmFQvYnanvN_",
        "colab": {
          "base_uri": "https://localhost:8080/"
        },
        "outputId": "0530a7bd-c3c3-4618-dbc2-b075aa31fa04"
      },
      "source": [
        "from sklearn.model_selection import StratifiedShuffleSplit\n",
        "\n",
        "X, y = dataset[['age', 'sex','lead', 'ecg']], dataset[['class']]\n",
        "\n",
        "Data_train, Data_val, y_train, y_val = train_test_split(X,\n",
        "                                                      y,\n",
        "                                                      test_size=0.2,\n",
        "                                                      shuffle=True,\n",
        "                                                      random_state=42)\n",
        "\n",
        "Data_val, Data_test, y_val, y_test = train_test_split(Data_val,\n",
        "                                                      y_val,\n",
        "                                                      test_size=0.5,\n",
        "                                                      shuffle=True,\n",
        "                                                      random_state=42)\n",
        "\n",
        "# Transformamos los datos datos de train para hacerlos compatibles con Keras\n",
        "X_train, qual_train = Data_train[['ecg']], Data_train[['age', 'sex','lead']]\n",
        "X_train = np.squeeze(np.array(X_train))\n",
        "y_train = np.squeeze(np.array(y_train))\n",
        "\n",
        "X_train = transform_dims(X_train)\n",
        "y_train = transform_dims(y_train)\n",
        "\n",
        "X_train = np.expand_dims(X_train,1)\n",
        "\n",
        "print('------TRAIN------')\n",
        "print(X_train.shape)\n",
        "print(qual_train.shape)\n",
        "print(y_train.shape)\n",
        "\n",
        "# Transformamos los datos datos de train para hacerlos compatibles con Keras\n",
        "X_val, qual_val = Data_val[['ecg']], Data_val[['age', 'sex','lead']]\n",
        "X_val = np.squeeze(np.array(X_val))\n",
        "y_val = np.squeeze(np.array(y_val))\n",
        "\n",
        "X_val = transform_dims(X_val)\n",
        "y_val = transform_dims(y_val)\n",
        "\n",
        "X_val = np.expand_dims(X_val,1)\n",
        "\n",
        "\n",
        "print('------VAL------')\n",
        "print(X_val.shape)\n",
        "print(qual_val.shape)\n",
        "print(y_val.shape)\n",
        "\n",
        "# Transformamos los datos de test para hacerlos compatibles con Keras\n",
        "X_test, qual_test = Data_test[['ecg']], Data_test[['age', 'sex','lead']]\n",
        "\n",
        "X_test = np.squeeze(np.array(X_test))\n",
        "y_test = np.squeeze(np.array(y_test))\n",
        "\n",
        "X_test = transform_dims(X_test)\n",
        "y_test = transform_dims(y_test)\n",
        "\n",
        "X_test = np.expand_dims(X_test,1)\n",
        "\n",
        "\n",
        "print('------TEST------')\n",
        "print(X_test.shape)\n",
        "print(qual_test.shape)\n",
        "print(y_test.shape)\n"
      ],
      "execution_count": null,
      "outputs": [
        {
          "output_type": "stream",
          "text": [
            "------TRAIN------\n",
            "(439840, 1, 256)\n",
            "(439840, 3)\n",
            "(439840, 27)\n",
            "------VAL------\n",
            "(54980, 1, 256)\n",
            "(54980, 3)\n",
            "(54980, 27)\n",
            "------TEST------\n",
            "(54981, 1, 256)\n",
            "(54981, 3)\n",
            "(54981, 27)\n"
          ],
          "name": "stdout"
        }
      ]
    },
    {
      "cell_type": "markdown",
      "metadata": {
        "id": "CrxwVcbURTg3"
      },
      "source": [
        "\n",
        "# Arquitectura 1"
      ]
    },
    {
      "cell_type": "code",
      "metadata": {
        "id": "46aDESJGHMbL"
      },
      "source": [
        "learning_rate = 0.01\n",
        "batch_size = 64\n",
        "dropout = 0.25\n",
        "batch_norm = 0.8"
      ],
      "execution_count": null,
      "outputs": []
    },
    {
      "cell_type": "code",
      "metadata": {
        "id": "OcTGHNsPQtTf"
      },
      "source": [
        "from keras.layers import GlobalAveragePooling1D, Multiply\n",
        "\n",
        "def SqueezeExcite(x, ratio=16):\n",
        "    n_channels = x.shape[-1]\n",
        "    #print(f'The number of channels is {n_channels}')\n",
        "    y = GlobalAveragePooling1D()(x)\n",
        "    y = Dense(n_channels//ratio, activation='relu')(y)\n",
        "    y = Dense(n_channels, activation='sigmoid')(y)\n",
        "    y = Multiply()([x, y])\n",
        "    return y"
      ],
      "execution_count": null,
      "outputs": []
    },
    {
      "cell_type": "code",
      "metadata": {
        "id": "GqWpdlm9tBQg"
      },
      "source": [
        "def ResUnit(X, kernels, size):\n",
        "    out = Conv1D(kernels, size, padding='same')(X)\n",
        "    out = BatchNormalization(momentum=batch_norm)(out)\n",
        "    out = Activation(\"relu\")(out)\n",
        "    out = Dropout(dropout)(out)\n",
        "    out = Conv1D(kernels, size, padding='same')(out)\n",
        "    out = BatchNormalization(momentum=batch_norm)(out)\n",
        "    out = SqueezeExcite(out)\n",
        "    if X.shape[-1] != out.shape[-1]:\n",
        "      X = Conv1D(kernels, 1, padding='same')(X)\n",
        "    out = Add()([X, out])\n",
        "    out = Activation(\"relu\")(out)\n",
        "    return out"
      ],
      "execution_count": null,
      "outputs": []
    },
    {
      "cell_type": "code",
      "metadata": {
        "id": "uDq4MYy2RYBv"
      },
      "source": [
        "def prep_classifier():\n",
        "    \n",
        "    inputs_conv = Input(X_train.shape[1:])\n",
        "    ecg = Conv1D(32, 12, padding='same')(inputs_conv)\n",
        "    ecg = BatchNormalization(momentum=batch_norm)(ecg)\n",
        "    ecg = Activation(\"relu\")(ecg)\n",
        "    #ecg = MaxPooling1D()(ecg)\n",
        "    ecg = ResUnit(ecg, 32, 12)\n",
        "    ecg = ResUnit(ecg, 32, 12)\n",
        "    ecg = ResUnit(ecg, 64, 7)\n",
        "    ecg = ResUnit(ecg, 64, 7)\n",
        "    ecg = ResUnit(ecg, 128, 7)\n",
        "    ecg = ResUnit(ecg, 128, 7)\n",
        "    ecg = ResUnit(ecg, 256, 7)\n",
        "    ecg = ResUnit(ecg, 256, 7)\n",
        "    print(ecg.shape)\n",
        "    ecg = Flatten()(ecg)\n",
        "\n",
        "    inputs_rnn = Input(X_train.shape[1:])\n",
        "    time = Bidirectional(LSTM(16,return_sequences=True))(inputs_rnn)\n",
        "    time = Bidirectional(LSTM(16,return_sequences=True), merge_mode = \"ave\")(time)\n",
        "    time = Flatten()(time)\n",
        "    print(time.shape)\n",
        "\n",
        "    qdata_input = Input(shape=(3))\n",
        "    qdata = Dense(32)(qdata_input)\n",
        "    \n",
        "    join = Concatenate()([ecg, time, qdata])\n",
        "    print(join.shape)\n",
        "    join = Dense(1024)(join)\n",
        "    join = BatchNormalization(momentum=batch_norm)(join)\n",
        "    join = Activation(\"relu\")(join)\n",
        "    join = Dense(512)(join)\n",
        "    join = BatchNormalization(momentum=batch_norm)(join)\n",
        "    join = Activation(\"relu\")(join)\n",
        "    join = Dense(64)(join)\n",
        "    join = BatchNormalization(momentum=batch_norm)(join)\n",
        "    join = Activation(\"relu\")(join)\n",
        "\n",
        "    outputs = Dense(27,activation=\"sigmoid\")(join)\n",
        "\n",
        "    classifier = Model(inputs=[inputs_conv, inputs_rnn, qdata_input], outputs=outputs)\n",
        "    classifier.compile(optimizer='adam' , loss='binary_crossentropy', metrics=['accuracy', 'AUC'])\n",
        "    plot_model(classifier)\n",
        "    return classifier"
      ],
      "execution_count": null,
      "outputs": []
    },
    {
      "cell_type": "code",
      "metadata": {
        "id": "iqa8wy_2p5A1",
        "colab": {
          "base_uri": "https://localhost:8080/"
        },
        "outputId": "94eca7de-7030-4380-c8f0-7f3fe7b7d514"
      },
      "source": [
        "clf = prep_classifier()\n",
        "_ = plot_model(clf,\n",
        "    to_file= TRIAL_PATH + '/model_scheme.png',\n",
        "    show_shapes=True,\n",
        "    show_dtype=True,\n",
        "    show_layer_names=False)"
      ],
      "execution_count": null,
      "outputs": [
        {
          "output_type": "stream",
          "text": [
            "(None, 1, 256)\n",
            "(None, 16)\n",
            "(None, 304)\n"
          ],
          "name": "stdout"
        }
      ]
    },
    {
      "cell_type": "code",
      "metadata": {
        "id": "qCNoH8VueNCi"
      },
      "source": [
        "#clf.summary()\n",
        "rlrop = ReduceLROnPlateau(monitor='val_loss', factor=0.1, patience=10)\n",
        "es = EarlyStopping(monitor='val_accuracy', mode='max' , verbose=1 , patience=5 )\n",
        "mc = ModelCheckpoint(TRIAL_PATH+'/model_'+TRIAL_NUMBER+'.h5', monitor='val_accuracy' , mode='max' , verbose=1 , save_best_only=True)"
      ],
      "execution_count": null,
      "outputs": []
    },
    {
      "cell_type": "code",
      "metadata": {
        "id": "MK-JCTEKa3kf",
        "colab": {
          "base_uri": "https://localhost:8080/"
        },
        "outputId": "fb5ff5c5-eecb-4af1-8d04-83e03edd46ba"
      },
      "source": [
        "import time\n",
        "start_time = time.time()\n",
        "history = clf.fit([X_train, X_train, qual_train], y_train, batch_size=64, epochs=50, validation_data=([X_val, X_val, qual_val],y_val), callbacks = [mc])\n",
        "time_spend = time.time() - start_time"
      ],
      "execution_count": null,
      "outputs": [
        {
          "output_type": "stream",
          "text": [
            "Epoch 1/50\n",
            "6873/6873 [==============================] - 253s 31ms/step - loss: 0.1167 - accuracy: 0.4958 - auc: 0.9329 - val_loss: 0.1254 - val_accuracy: 0.4666 - val_auc: 0.9192\n",
            "\n",
            "Epoch 00001: val_accuracy improved from -inf to 0.46657, saving model to /content/drive/My Drive/TFM_RESULTS/modelo1_trial_100epochs/model_modelo1_trial_100epochs.h5\n"
          ],
          "name": "stdout"
        },
        {
          "output_type": "stream",
          "text": [
            "/usr/local/lib/python3.7/dist-packages/tensorflow/python/keras/utils/generic_utils.py:497: CustomMaskWarning: Custom mask layers require a config and must override get_config. When loading, the custom mask layer must be passed to the custom_objects argument.\n",
            "  category=CustomMaskWarning)\n"
          ],
          "name": "stderr"
        },
        {
          "output_type": "stream",
          "text": [
            "Epoch 2/50\n",
            "6873/6873 [==============================] - 214s 31ms/step - loss: 0.1164 - accuracy: 0.4962 - auc: 0.9332 - val_loss: 0.1251 - val_accuracy: 0.4750 - val_auc: 0.9198\n",
            "\n",
            "Epoch 00002: val_accuracy improved from 0.46657 to 0.47505, saving model to /content/drive/My Drive/TFM_RESULTS/modelo1_trial_100epochs/model_modelo1_trial_100epochs.h5\n",
            "Epoch 3/50\n",
            "6873/6873 [==============================] - 215s 31ms/step - loss: 0.1160 - accuracy: 0.4970 - auc: 0.9339 - val_loss: 0.1256 - val_accuracy: 0.4763 - val_auc: 0.9190\n",
            "\n",
            "Epoch 00003: val_accuracy improved from 0.47505 to 0.47630, saving model to /content/drive/My Drive/TFM_RESULTS/modelo1_trial_100epochs/model_modelo1_trial_100epochs.h5\n",
            "Epoch 4/50\n",
            "6873/6873 [==============================] - 214s 31ms/step - loss: 0.1156 - accuracy: 0.4986 - auc: 0.9344 - val_loss: 0.1248 - val_accuracy: 0.4696 - val_auc: 0.9205\n",
            "\n",
            "Epoch 00004: val_accuracy did not improve from 0.47630\n",
            "Epoch 5/50\n",
            "6873/6873 [==============================] - 214s 31ms/step - loss: 0.1153 - accuracy: 0.4991 - auc: 0.9348 - val_loss: 0.1255 - val_accuracy: 0.4698 - val_auc: 0.9193\n",
            "\n",
            "Epoch 00005: val_accuracy did not improve from 0.47630\n",
            "Epoch 6/50\n",
            "6873/6873 [==============================] - 213s 31ms/step - loss: 0.1150 - accuracy: 0.4994 - auc: 0.9353 - val_loss: 0.1246 - val_accuracy: 0.4726 - val_auc: 0.9204\n",
            "\n",
            "Epoch 00006: val_accuracy did not improve from 0.47630\n",
            "Epoch 7/50\n",
            "6873/6873 [==============================] - 214s 31ms/step - loss: 0.1147 - accuracy: 0.5010 - auc: 0.9357 - val_loss: 0.1249 - val_accuracy: 0.4781 - val_auc: 0.9200\n",
            "\n",
            "Epoch 00007: val_accuracy improved from 0.47630 to 0.47812, saving model to /content/drive/My Drive/TFM_RESULTS/modelo1_trial_100epochs/model_modelo1_trial_100epochs.h5\n",
            "Epoch 8/50\n",
            "6873/6873 [==============================] - 214s 31ms/step - loss: 0.1143 - accuracy: 0.5017 - auc: 0.9362 - val_loss: 0.1250 - val_accuracy: 0.4761 - val_auc: 0.9200\n",
            "\n",
            "Epoch 00008: val_accuracy did not improve from 0.47812\n",
            "Epoch 9/50\n",
            "6873/6873 [==============================] - 214s 31ms/step - loss: 0.1141 - accuracy: 0.5025 - auc: 0.9365 - val_loss: 0.1246 - val_accuracy: 0.4779 - val_auc: 0.9205\n",
            "\n",
            "Epoch 00009: val_accuracy did not improve from 0.47812\n",
            "Epoch 10/50\n",
            "6873/6873 [==============================] - 213s 31ms/step - loss: 0.1138 - accuracy: 0.5030 - auc: 0.9370 - val_loss: 0.1251 - val_accuracy: 0.4752 - val_auc: 0.9195\n",
            "\n",
            "Epoch 00010: val_accuracy did not improve from 0.47812\n",
            "Epoch 11/50\n",
            "6873/6873 [==============================] - 212s 31ms/step - loss: 0.1135 - accuracy: 0.5039 - auc: 0.9373 - val_loss: 0.1239 - val_accuracy: 0.4788 - val_auc: 0.9213\n",
            "\n",
            "Epoch 00011: val_accuracy improved from 0.47812 to 0.47879, saving model to /content/drive/My Drive/TFM_RESULTS/modelo1_trial_100epochs/model_modelo1_trial_100epochs.h5\n",
            "Epoch 12/50\n",
            "6873/6873 [==============================] - 212s 31ms/step - loss: 0.1132 - accuracy: 0.5053 - auc: 0.9377 - val_loss: 0.1247 - val_accuracy: 0.4762 - val_auc: 0.9202\n",
            "\n",
            "Epoch 00012: val_accuracy did not improve from 0.47879\n",
            "Epoch 13/50\n",
            "6873/6873 [==============================] - 217s 32ms/step - loss: 0.1129 - accuracy: 0.5061 - auc: 0.9381 - val_loss: 0.1244 - val_accuracy: 0.4791 - val_auc: 0.9209\n",
            "\n",
            "Epoch 00013: val_accuracy improved from 0.47879 to 0.47907, saving model to /content/drive/My Drive/TFM_RESULTS/modelo1_trial_100epochs/model_modelo1_trial_100epochs.h5\n",
            "Epoch 14/50\n",
            "6873/6873 [==============================] - 221s 32ms/step - loss: 0.1126 - accuracy: 0.5069 - auc: 0.9385 - val_loss: 0.1248 - val_accuracy: 0.4798 - val_auc: 0.9205\n",
            "\n",
            "Epoch 00014: val_accuracy improved from 0.47907 to 0.47976, saving model to /content/drive/My Drive/TFM_RESULTS/modelo1_trial_100epochs/model_modelo1_trial_100epochs.h5\n",
            "Epoch 15/50\n",
            "6873/6873 [==============================] - 219s 32ms/step - loss: 0.1123 - accuracy: 0.5076 - auc: 0.9390 - val_loss: 0.1245 - val_accuracy: 0.4804 - val_auc: 0.9207\n",
            "\n",
            "Epoch 00015: val_accuracy improved from 0.47976 to 0.48037, saving model to /content/drive/My Drive/TFM_RESULTS/modelo1_trial_100epochs/model_modelo1_trial_100epochs.h5\n",
            "Epoch 16/50\n",
            "6873/6873 [==============================] - 217s 32ms/step - loss: 0.1121 - accuracy: 0.5084 - auc: 0.9393 - val_loss: 0.1251 - val_accuracy: 0.4724 - val_auc: 0.9198\n",
            "\n",
            "Epoch 00016: val_accuracy did not improve from 0.48037\n",
            "Epoch 17/50\n",
            "6873/6873 [==============================] - 216s 31ms/step - loss: 0.1118 - accuracy: 0.5090 - auc: 0.9396 - val_loss: 0.1242 - val_accuracy: 0.4777 - val_auc: 0.9210\n",
            "\n",
            "Epoch 00017: val_accuracy did not improve from 0.48037\n",
            "Epoch 18/50\n",
            "6873/6873 [==============================] - 214s 31ms/step - loss: 0.1114 - accuracy: 0.5102 - auc: 0.9401 - val_loss: 0.1257 - val_accuracy: 0.4741 - val_auc: 0.9192\n",
            "\n",
            "Epoch 00018: val_accuracy did not improve from 0.48037\n",
            "Epoch 19/50\n",
            "6873/6873 [==============================] - 215s 31ms/step - loss: 0.1113 - accuracy: 0.5101 - auc: 0.9404 - val_loss: 0.1254 - val_accuracy: 0.4778 - val_auc: 0.9192\n",
            "\n",
            "Epoch 00019: val_accuracy did not improve from 0.48037\n",
            "Epoch 20/50\n",
            "6873/6873 [==============================] - 215s 31ms/step - loss: 0.1110 - accuracy: 0.5111 - auc: 0.9407 - val_loss: 0.1250 - val_accuracy: 0.4750 - val_auc: 0.9201\n",
            "\n",
            "Epoch 00020: val_accuracy did not improve from 0.48037\n",
            "Epoch 21/50\n",
            "6873/6873 [==============================] - 215s 31ms/step - loss: 0.1107 - accuracy: 0.5122 - auc: 0.9411 - val_loss: 0.1245 - val_accuracy: 0.4786 - val_auc: 0.9205\n",
            "\n",
            "Epoch 00021: val_accuracy did not improve from 0.48037\n",
            "Epoch 22/50\n",
            "6873/6873 [==============================] - 214s 31ms/step - loss: 0.1105 - accuracy: 0.5122 - auc: 0.9413 - val_loss: 0.1244 - val_accuracy: 0.4784 - val_auc: 0.9207\n",
            "\n",
            "Epoch 00022: val_accuracy did not improve from 0.48037\n",
            "Epoch 23/50\n",
            "6873/6873 [==============================] - 214s 31ms/step - loss: 0.1103 - accuracy: 0.5130 - auc: 0.9416 - val_loss: 0.1243 - val_accuracy: 0.4795 - val_auc: 0.9211\n",
            "\n",
            "Epoch 00023: val_accuracy did not improve from 0.48037\n",
            "Epoch 24/50\n",
            "6873/6873 [==============================] - 214s 31ms/step - loss: 0.1099 - accuracy: 0.5148 - auc: 0.9421 - val_loss: 0.1241 - val_accuracy: 0.4813 - val_auc: 0.9212\n",
            "\n",
            "Epoch 00024: val_accuracy improved from 0.48037 to 0.48132, saving model to /content/drive/My Drive/TFM_RESULTS/modelo1_trial_100epochs/model_modelo1_trial_100epochs.h5\n",
            "Epoch 25/50\n",
            "6873/6873 [==============================] - 215s 31ms/step - loss: 0.1098 - accuracy: 0.5143 - auc: 0.9422 - val_loss: 0.1246 - val_accuracy: 0.4787 - val_auc: 0.9209\n",
            "\n",
            "Epoch 00025: val_accuracy did not improve from 0.48132\n",
            "Epoch 26/50\n",
            "6873/6873 [==============================] - 216s 31ms/step - loss: 0.1095 - accuracy: 0.5150 - auc: 0.9427 - val_loss: 0.1249 - val_accuracy: 0.4763 - val_auc: 0.9203\n",
            "\n",
            "Epoch 00026: val_accuracy did not improve from 0.48132\n",
            "Epoch 27/50\n",
            "6873/6873 [==============================] - 214s 31ms/step - loss: 0.1093 - accuracy: 0.5162 - auc: 0.9429 - val_loss: 0.1241 - val_accuracy: 0.4798 - val_auc: 0.9211\n",
            "\n",
            "Epoch 00027: val_accuracy did not improve from 0.48132\n",
            "Epoch 28/50\n",
            "6873/6873 [==============================] - 214s 31ms/step - loss: 0.1091 - accuracy: 0.5164 - auc: 0.9432 - val_loss: 0.1251 - val_accuracy: 0.4822 - val_auc: 0.9204\n",
            "\n",
            "Epoch 00028: val_accuracy improved from 0.48132 to 0.48216, saving model to /content/drive/My Drive/TFM_RESULTS/modelo1_trial_100epochs/model_modelo1_trial_100epochs.h5\n",
            "Epoch 29/50\n",
            "6873/6873 [==============================] - 214s 31ms/step - loss: 0.1087 - accuracy: 0.5180 - auc: 0.9437 - val_loss: 0.1248 - val_accuracy: 0.4788 - val_auc: 0.9201\n",
            "\n",
            "Epoch 00029: val_accuracy did not improve from 0.48216\n",
            "Epoch 30/50\n",
            "6873/6873 [==============================] - 214s 31ms/step - loss: 0.1086 - accuracy: 0.5179 - auc: 0.9437 - val_loss: 0.1240 - val_accuracy: 0.4823 - val_auc: 0.9211\n",
            "\n",
            "Epoch 00030: val_accuracy improved from 0.48216 to 0.48230, saving model to /content/drive/My Drive/TFM_RESULTS/modelo1_trial_100epochs/model_modelo1_trial_100epochs.h5\n",
            "Epoch 31/50\n",
            "6873/6873 [==============================] - 214s 31ms/step - loss: 0.1084 - accuracy: 0.5183 - auc: 0.9441 - val_loss: 0.1249 - val_accuracy: 0.4818 - val_auc: 0.9203\n",
            "\n",
            "Epoch 00031: val_accuracy did not improve from 0.48230\n",
            "Epoch 32/50\n",
            "6873/6873 [==============================] - 215s 31ms/step - loss: 0.1082 - accuracy: 0.5197 - auc: 0.9443 - val_loss: 0.1234 - val_accuracy: 0.4857 - val_auc: 0.9220\n",
            "\n",
            "Epoch 00032: val_accuracy improved from 0.48230 to 0.48570, saving model to /content/drive/My Drive/TFM_RESULTS/modelo1_trial_100epochs/model_modelo1_trial_100epochs.h5\n",
            "Epoch 33/50\n",
            "6873/6873 [==============================] - 215s 31ms/step - loss: 0.1078 - accuracy: 0.5195 - auc: 0.9448 - val_loss: 0.1250 - val_accuracy: 0.4820 - val_auc: 0.9202\n",
            "\n",
            "Epoch 00033: val_accuracy did not improve from 0.48570\n",
            "Epoch 34/50\n",
            "6873/6873 [==============================] - 216s 31ms/step - loss: 0.1077 - accuracy: 0.5206 - auc: 0.9450 - val_loss: 0.1243 - val_accuracy: 0.4835 - val_auc: 0.9215\n",
            "\n",
            "Epoch 00034: val_accuracy did not improve from 0.48570\n",
            "Epoch 35/50\n",
            "6873/6873 [==============================] - 215s 31ms/step - loss: 0.1075 - accuracy: 0.5204 - auc: 0.9451 - val_loss: 0.1239 - val_accuracy: 0.4847 - val_auc: 0.9215\n",
            "\n",
            "Epoch 00035: val_accuracy did not improve from 0.48570\n",
            "Epoch 36/50\n",
            "6873/6873 [==============================] - 216s 31ms/step - loss: 0.1072 - accuracy: 0.5216 - auc: 0.9455 - val_loss: 0.1241 - val_accuracy: 0.4774 - val_auc: 0.9212\n",
            "\n",
            "Epoch 00036: val_accuracy did not improve from 0.48570\n",
            "Epoch 37/50\n",
            "6873/6873 [==============================] - 216s 31ms/step - loss: 0.1069 - accuracy: 0.5225 - auc: 0.9458 - val_loss: 0.1250 - val_accuracy: 0.4844 - val_auc: 0.9207\n",
            "\n",
            "Epoch 00037: val_accuracy did not improve from 0.48570\n",
            "Epoch 38/50\n",
            "6873/6873 [==============================] - 216s 31ms/step - loss: 0.1069 - accuracy: 0.5219 - auc: 0.9459 - val_loss: 0.1245 - val_accuracy: 0.4804 - val_auc: 0.9207\n",
            "\n",
            "Epoch 00038: val_accuracy did not improve from 0.48570\n",
            "Epoch 39/50\n",
            "6873/6873 [==============================] - 215s 31ms/step - loss: 0.1065 - accuracy: 0.5235 - auc: 0.9463 - val_loss: 0.1240 - val_accuracy: 0.4843 - val_auc: 0.9217\n",
            "\n",
            "Epoch 00039: val_accuracy did not improve from 0.48570\n",
            "Epoch 40/50\n",
            "6873/6873 [==============================] - 216s 31ms/step - loss: 0.1065 - accuracy: 0.5236 - auc: 0.9464 - val_loss: 0.1244 - val_accuracy: 0.4791 - val_auc: 0.9207\n",
            "\n",
            "Epoch 00040: val_accuracy did not improve from 0.48570\n",
            "Epoch 41/50\n",
            "6873/6873 [==============================] - 216s 31ms/step - loss: 0.1062 - accuracy: 0.5243 - auc: 0.9467 - val_loss: 0.1248 - val_accuracy: 0.4817 - val_auc: 0.9208\n",
            "\n",
            "Epoch 00041: val_accuracy did not improve from 0.48570\n",
            "Epoch 42/50\n",
            "6873/6873 [==============================] - 216s 31ms/step - loss: 0.1061 - accuracy: 0.5246 - auc: 0.9468 - val_loss: 0.1239 - val_accuracy: 0.4793 - val_auc: 0.9217\n",
            "\n",
            "Epoch 00042: val_accuracy did not improve from 0.48570\n",
            "Epoch 43/50\n",
            "5162/6873 [=====================>........] - ETA: 52s - loss: 0.1058 - accuracy: 0.5266 - auc: 0.9472"
          ],
          "name": "stdout"
        }
      ]
    },
    {
      "cell_type": "code",
      "metadata": {
        "id": "xwz6icsbpwIb",
        "colab": {
          "base_uri": "https://localhost:8080/",
          "height": 655
        },
        "outputId": "83c098e6-989c-4fb7-d0e7-de4a964845f5"
      },
      "source": [
        "plt.style.use('seaborn')\n",
        "fig, axs = plt.subplots(1,2, figsize=(15,5), dpi=100)\n",
        "axs[0].plot(history.history['accuracy'], color='r', label='train')\n",
        "axs[0].plot(history.history['val_accuracy'], color='b', label='validation')\n",
        "axs[0].legend(loc = 'upper left', prop={'size':12})\n",
        "axs[0].set_title('ACCURACY', fontsize=20)\n",
        "axs[1].plot(history.history['loss'], color='r', label='train')\n",
        "axs[1].plot(history.history['val_loss'], color='b', label='validation')\n",
        "axs[1].set_title('LOSS', fontsize=20)\n",
        "axs[1].legend(loc = 'upper right', prop={'size':12})\n",
        "fig.savefig(TRIAL_PATH+'/ACCURACY and LOSS')"
      ],
      "execution_count": null,
      "outputs": [
        {
          "output_type": "error",
          "ename": "NameError",
          "evalue": "ignored",
          "traceback": [
            "\u001b[0;31m---------------------------------------------------------------------------\u001b[0m",
            "\u001b[0;31mNameError\u001b[0m                                 Traceback (most recent call last)",
            "\u001b[0;32m<ipython-input-14-8b3dcd162214>\u001b[0m in \u001b[0;36m<module>\u001b[0;34m()\u001b[0m\n\u001b[1;32m      1\u001b[0m \u001b[0mplt\u001b[0m\u001b[0;34m.\u001b[0m\u001b[0mstyle\u001b[0m\u001b[0;34m.\u001b[0m\u001b[0muse\u001b[0m\u001b[0;34m(\u001b[0m\u001b[0;34m'seaborn'\u001b[0m\u001b[0;34m)\u001b[0m\u001b[0;34m\u001b[0m\u001b[0;34m\u001b[0m\u001b[0m\n\u001b[1;32m      2\u001b[0m \u001b[0mfig\u001b[0m\u001b[0;34m,\u001b[0m \u001b[0maxs\u001b[0m \u001b[0;34m=\u001b[0m \u001b[0mplt\u001b[0m\u001b[0;34m.\u001b[0m\u001b[0msubplots\u001b[0m\u001b[0;34m(\u001b[0m\u001b[0;36m1\u001b[0m\u001b[0;34m,\u001b[0m\u001b[0;36m2\u001b[0m\u001b[0;34m,\u001b[0m \u001b[0mfigsize\u001b[0m\u001b[0;34m=\u001b[0m\u001b[0;34m(\u001b[0m\u001b[0;36m15\u001b[0m\u001b[0;34m,\u001b[0m\u001b[0;36m5\u001b[0m\u001b[0;34m)\u001b[0m\u001b[0;34m,\u001b[0m \u001b[0mdpi\u001b[0m\u001b[0;34m=\u001b[0m\u001b[0;36m100\u001b[0m\u001b[0;34m)\u001b[0m\u001b[0;34m\u001b[0m\u001b[0;34m\u001b[0m\u001b[0m\n\u001b[0;32m----> 3\u001b[0;31m \u001b[0maxs\u001b[0m\u001b[0;34m[\u001b[0m\u001b[0;36m0\u001b[0m\u001b[0;34m]\u001b[0m\u001b[0;34m.\u001b[0m\u001b[0mplot\u001b[0m\u001b[0;34m(\u001b[0m\u001b[0mhistory\u001b[0m\u001b[0;34m.\u001b[0m\u001b[0mhistory\u001b[0m\u001b[0;34m[\u001b[0m\u001b[0;34m'accuracy'\u001b[0m\u001b[0;34m]\u001b[0m\u001b[0;34m,\u001b[0m \u001b[0mcolor\u001b[0m\u001b[0;34m=\u001b[0m\u001b[0;34m'r'\u001b[0m\u001b[0;34m,\u001b[0m \u001b[0mlabel\u001b[0m\u001b[0;34m=\u001b[0m\u001b[0;34m'train'\u001b[0m\u001b[0;34m)\u001b[0m\u001b[0;34m\u001b[0m\u001b[0;34m\u001b[0m\u001b[0m\n\u001b[0m\u001b[1;32m      4\u001b[0m \u001b[0maxs\u001b[0m\u001b[0;34m[\u001b[0m\u001b[0;36m0\u001b[0m\u001b[0;34m]\u001b[0m\u001b[0;34m.\u001b[0m\u001b[0mplot\u001b[0m\u001b[0;34m(\u001b[0m\u001b[0mhistory\u001b[0m\u001b[0;34m.\u001b[0m\u001b[0mhistory\u001b[0m\u001b[0;34m[\u001b[0m\u001b[0;34m'val_accuracy'\u001b[0m\u001b[0;34m]\u001b[0m\u001b[0;34m,\u001b[0m \u001b[0mcolor\u001b[0m\u001b[0;34m=\u001b[0m\u001b[0;34m'b'\u001b[0m\u001b[0;34m,\u001b[0m \u001b[0mlabel\u001b[0m\u001b[0;34m=\u001b[0m\u001b[0;34m'validation'\u001b[0m\u001b[0;34m)\u001b[0m\u001b[0;34m\u001b[0m\u001b[0;34m\u001b[0m\u001b[0m\n\u001b[1;32m      5\u001b[0m \u001b[0maxs\u001b[0m\u001b[0;34m[\u001b[0m\u001b[0;36m0\u001b[0m\u001b[0;34m]\u001b[0m\u001b[0;34m.\u001b[0m\u001b[0mlegend\u001b[0m\u001b[0;34m(\u001b[0m\u001b[0mloc\u001b[0m \u001b[0;34m=\u001b[0m \u001b[0;34m'upper left'\u001b[0m\u001b[0;34m,\u001b[0m \u001b[0mprop\u001b[0m\u001b[0;34m=\u001b[0m\u001b[0;34m{\u001b[0m\u001b[0;34m'size'\u001b[0m\u001b[0;34m:\u001b[0m\u001b[0;36m12\u001b[0m\u001b[0;34m}\u001b[0m\u001b[0;34m)\u001b[0m\u001b[0;34m\u001b[0m\u001b[0;34m\u001b[0m\u001b[0m\n",
            "\u001b[0;31mNameError\u001b[0m: name 'history' is not defined"
          ]
        },
        {
          "output_type": "display_data",
          "data": {
            "image/png": "[encoded data removed]",
            "text/plain": [
              "<Figure size 1500x500 with 2 Axes>"
            ]
          },
          "metadata": {
            "tags": []
          }
        }
      ]
    },
    {
      "cell_type": "markdown",
      "metadata": {
        "id": "fFhth-pwqAyE"
      },
      "source": [
        "# Save model"
      ]
    },
    {
      "cell_type": "code",
      "metadata": {
        "id": "nzBigcVymYsD",
        "colab": {
          "base_uri": "https://localhost:8080/"
        },
        "outputId": "83461e68-4535-451d-d72e-c153cb67eaa7"
      },
      "source": [
        "clf.save(TRIAL_PATH+'/model_'+TRIAL_NUMBER+'.h5')"
      ],
      "execution_count": null,
      "outputs": [
        {
          "output_type": "stream",
          "text": [
            "/usr/local/lib/python3.7/dist-packages/tensorflow/python/keras/utils/generic_utils.py:497: CustomMaskWarning: Custom mask layers require a config and must override get_config. When loading, the custom mask layer must be passed to the custom_objects argument.\n",
            "  category=CustomMaskWarning)\n"
          ],
          "name": "stderr"
        }
      ]
    },
    {
      "cell_type": "markdown",
      "metadata": {
        "id": "Ctc6e3yQqOMQ"
      },
      "source": [
        "# Analysing model results"
      ]
    },
    {
      "cell_type": "code",
      "metadata": {
        "id": "631lgtRYq-Ri",
        "colab": {
          "base_uri": "https://localhost:8080/"
        },
        "outputId": "3e61726f-7bb7-486a-d2dc-edbfcb017509"
      },
      "source": [
        "from keras.utils import np_utils\n",
        "from sklearn.metrics import classification_report, multilabel_confusion_matrix, confusion_matrix\n",
        "\n",
        "predictions = clf.predict([X_test,X_test, qual_test])\n",
        "\n",
        "mult_label = []\n",
        "for prediction in predictions:\n",
        "  mult_label.append(np.where(prediction > 0.4, 1, 0))\n",
        "\n",
        "etiq = []\n",
        "[etiq.append(abbv) for abbv in csv_file['Abbreviation']]\n",
        "clf_rep = classification_report(y_test, mult_label, target_names=etiq)\n",
        "print(classification_report(y_test, mult_label,target_names=etiq))"
      ],
      "execution_count": null,
      "outputs": [
        {
          "output_type": "stream",
          "text": [
            "              precision    recall  f1-score   support\n",
            "\n",
            "        IAVB       0.50      0.13      0.21      3599\n",
            "          AF       0.60      0.63      0.62      5894\n",
            "         AFL       0.52      0.18      0.27       472\n",
            "       Brady       0.55      0.28      0.37       808\n",
            "       CRBBB       0.49      0.14      0.22       972\n",
            "       IRBBB       0.46      0.03      0.05      2070\n",
            "       LAnFB       0.51      0.10      0.17      2190\n",
            "         LAD       0.52      0.24      0.33      7516\n",
            "        LBBB       0.67      0.44      0.53      1614\n",
            "       LQRSV       0.41      0.02      0.04       643\n",
            "      NSIVCB       0.43      0.02      0.03      1140\n",
            "          PR       0.63      0.33      0.43       374\n",
            "         PAC       0.47      0.18      0.26      3429\n",
            "         PVC       0.45      0.13      0.21       557\n",
            "         LPR       0.24      0.01      0.02       394\n",
            "         LQT       0.38      0.13      0.19      1757\n",
            "         QAb       0.36      0.02      0.05      1196\n",
            "         RAD       0.49      0.07      0.13       521\n",
            "        RBBB       0.57      0.38      0.46      4799\n",
            "          SA       0.48      0.10      0.16      1510\n",
            "          SB       0.61      0.44      0.51      2899\n",
            "         NSR       0.76      0.84      0.80     27799\n",
            "       STach       0.78      0.73      0.76      3215\n",
            "        SVPB       0.57      0.13      0.21       430\n",
            "         TAb       0.43      0.13      0.20      5525\n",
            "        TInv       0.48      0.04      0.07      1350\n",
            "         VPB       0.48      0.07      0.13       433\n",
            "\n",
            "   micro avg       0.67      0.46      0.55     83106\n",
            "   macro avg       0.51      0.22      0.27     83106\n",
            "weighted avg       0.60      0.46      0.49     83106\n",
            " samples avg       0.60      0.53      0.54     83106\n",
            "\n"
          ],
          "name": "stdout"
        },
        {
          "output_type": "stream",
          "text": [
            "/usr/local/lib/python3.7/dist-packages/sklearn/metrics/_classification.py:1272: UndefinedMetricWarning: Precision and F-score are ill-defined and being set to 0.0 in samples with no predicted labels. Use `zero_division` parameter to control this behavior.\n",
            "  _warn_prf(average, modifier, msg_start, len(result))\n"
          ],
          "name": "stderr"
        }
      ]
    },
    {
      "cell_type": "code",
      "metadata": {
        "id": "saLnkJ88dlXP"
      },
      "source": [
        "cm = multilabel_confusion_matrix(y_test, mult_label)"
      ],
      "execution_count": null,
      "outputs": []
    },
    {
      "cell_type": "markdown",
      "metadata": {
        "id": "gzEDbWX77b48"
      },
      "source": [
        "# Generating a confusion matrix for class predictions"
      ]
    },
    {
      "cell_type": "code",
      "metadata": {
        "id": "Ykz4ULh97nX4"
      },
      "source": [
        "import pandas as pd\n",
        "import matplotlib.pyplot as plt\n",
        "import seaborn as sns\n",
        "\n",
        "\n",
        "def print_confusion_matrix(confusion_matrix, axes, class_label, class_names, fontsize=14):\n",
        "\n",
        "    df_cm = pd.DataFrame(\n",
        "        confusion_matrix, index=class_names, columns=class_names,\n",
        "    )\n",
        "\n",
        "    try:\n",
        "        heatmap = sns.heatmap(df_cm, annot=True, fmt=\"d\", cbar=False, ax=axes)\n",
        "    except ValueError:\n",
        "        raise ValueError(\"Confusion matrix values must be integers.\")\n",
        "    heatmap.yaxis.set_ticklabels(heatmap.yaxis.get_ticklabels(), rotation=0, ha='right', fontsize=fontsize)\n",
        "    heatmap.xaxis.set_ticklabels(heatmap.xaxis.get_ticklabels(), rotation=45, ha='right', fontsize=fontsize)\n",
        "    axes.set_xlabel('True label')\n",
        "    axes.set_ylabel('Predicted label')\n",
        "    axes.set_title(class_label)"
      ],
      "execution_count": null,
      "outputs": []
    },
    {
      "cell_type": "code",
      "metadata": {
        "id": "Xi5TYTglD9Xi",
        "colab": {
          "base_uri": "https://localhost:8080/",
          "height": 729
        },
        "outputId": "8410c640-ebcd-4feb-8a76-d1d01843461d"
      },
      "source": [
        "csv_file = pd.read_csv('/content/drive/MyDrive/TFM_DATA/Dx_snomed_valid.csv', delimiter=';')\n",
        "labels=csv_file['Abbreviation']\n",
        "fig, ax = plt.subplots(4, 8, figsize=(18, 10))\n",
        "    \n",
        "for axes, cfs_matrix, label in zip(ax.flatten(), cm, labels):\n",
        "    print_confusion_matrix(cfs_matrix, axes, label, [\"N\", \"Y\"])\n",
        "    \n",
        "fig.tight_layout()\n",
        "plt.savefig(TRIAL_PATH+'/confusion_matrix')\n",
        "plt.show()  "
      ],
      "execution_count": null,
      "outputs": [
        {
          "output_type": "display_data",
          "data": {
            "image/png": "[encoded data removed]",
            "text/plain": [
              "<Figure size 1296x720 with 32 Axes>"
            ]
          },
          "metadata": {
            "tags": []
          }
        }
      ]
    },
    {
      "cell_type": "markdown",
      "metadata": {
        "id": "xAQSjoSjeB4J"
      },
      "source": [
        "# Saving the model results"
      ]
    },
    {
      "cell_type": "code",
      "metadata": {
        "id": "9klkfUpfW0__"
      },
      "source": [
        "def txt_generator():\n",
        "    with open(os.path.join(TRIAL_PATH, FILE_NAME), 'w') as f:\n",
        "      f.write(TRIAL_NUMBER+'\\n')\n",
        "      f.write('Training this model took ' + str(float(time_spend/60))+' minutes...\\n')\n",
        "      f.write('--------------------------------------------------------'+'\\n')\n",
        "      f.write('Dataset used: ' + DATASET + '\\n')\n",
        "      f.write('Data dimensions'+'\\n')\n",
        "      f.write('\\tTrain: '+'\\n')\n",
        "      f.write('\\t\\t'+'ECG: '+ str(X_train.shape)+'\\n')\n",
        "      f.write('\\t\\t'+'Qualitative: '+str(qual_train.shape)+'\\n')\n",
        "      f.write('\\t\\t'+'Labels: '+str(y_train.shape)+'\\n')\n",
        "      f.write('\\tValidation: '+'\\n')\n",
        "      f.write('\\t\\t'+'ECG: '+str(X_val.shape)+'\\n')\n",
        "      f.write('\\t\\t'+'Qualitative: '+str(qual_val.shape)+'\\n')\n",
        "      f.write('\\t\\t'+'Labels: '+str(y_val.shape)+'\\n')\n",
        "      f.write('\\tTest: '+'\\n')\n",
        "      f.write('\\t\\t'+'ECG: '+str(X_test.shape)+'\\n')\n",
        "      f.write('\\t\\t'+'Qualitative: '+str(qual_test.shape)+'\\n')\n",
        "      f.write('\\t\\t'+'Labels: '+str(y_test.shape)+'\\n')\n",
        "      f.write('Hyper Parameters\\n')\n",
        "      f.write('\\t\\t'+'Learning Rate '+ str(learning_rate) +'\\n')\n",
        "      f.write('\\t\\t'+'Drop Out '+str(dropout) +'\\n')\n",
        "      f.write('\\t\\t'+'Batch Normalisation '+str(batch_norm) +'\\n\\n')\n",
        "      f.write('Clasification Report'+'\\n')\n",
        "      f.write(str(clf_rep)+'\\n\\n')"
      ],
      "execution_count": null,
      "outputs": []
    },
    {
      "cell_type": "code",
      "metadata": {
        "id": "NwqRyOoME06R"
      },
      "source": [
        "txt_generator()"
      ],
      "execution_count": null,
      "outputs": []
    },
    {
      "cell_type": "markdown",
      "metadata": {
        "id": "zb9vLfi5pulc"
      },
      "source": [
        "# Loading existing model"
      ]
    },
    {
      "cell_type": "code",
      "metadata": {
        "id": "fj7G1NCe1-nJ"
      },
      "source": [
        "clf = load_model(TRIAL_PATH+'/model_' + TRIAL_NUMBER + '.h5')"
      ],
      "execution_count": null,
      "outputs": []
    },
    {
      "cell_type": "markdown",
      "metadata": {
        "id": "0HJMdT9wWX0U"
      },
      "source": [
        "# ROC curves and AUC calculations"
      ]
    },
    {
      "cell_type": "code",
      "metadata": {
        "colab": {
          "base_uri": "https://localhost:8080/"
        },
        "id": "HFjFlJLbWale",
        "outputId": "d499fd2b-6305-4f3d-821d-c782f3299dee"
      },
      "source": [
        "m1_probs = clf.predict([X_test,X_test,qual_test])\n",
        "m1_probs"
      ],
      "execution_count": null,
      "outputs": [
        {
          "output_type": "execute_result",
          "data": {
            "text/plain": [
              "array([[4.9795460e-02, 1.5057113e-02, 6.7782557e-06, ..., 6.4358965e-02,\n",
              "        7.0882291e-03, 1.8333546e-04],\n",
              "       [3.7807692e-02, 4.0571862e-03, 1.2302819e-05, ..., 2.8356768e-02,\n",
              "        5.8325073e-03, 3.0354326e-04],\n",
              "       [1.4076537e-01, 5.6885383e-03, 1.0154756e-03, ..., 5.8346573e-02,\n",
              "        1.5925003e-02, 5.0976669e-04],\n",
              "       ...,\n",
              "       [2.6905969e-01, 7.3255273e-03, 3.8571619e-05, ..., 2.1274698e-01,\n",
              "        5.2151427e-02, 2.9025655e-03],\n",
              "       [5.1907916e-03, 5.1402458e-04, 1.2231072e-04, ..., 1.0522898e-01,\n",
              "        1.2870918e-02, 1.4590819e-03],\n",
              "       [2.9469702e-01, 2.3137641e-03, 1.7940476e-04, ..., 2.1379625e-02,\n",
              "        1.6142473e-02, 1.5961488e-05]], dtype=float32)"
            ]
          },
          "metadata": {
            "tags": []
          },
          "execution_count": 15
        }
      ]
    },
    {
      "cell_type": "code",
      "metadata": {
        "colab": {
          "base_uri": "https://localhost:8080/"
        },
        "id": "CSyvW4aSXqDX",
        "outputId": "35a92039-4543-4d15-d606-5b6d451d51a3"
      },
      "source": [
        "from sklearn.metrics import roc_curve, roc_auc_score\n",
        "\n",
        "m1_auc = roc_auc_score(y_test, m1_probs)\n",
        "m1_auc"
      ],
      "execution_count": null,
      "outputs": [
        {
          "output_type": "execute_result",
          "data": {
            "text/plain": [
              "0.859417229687668"
            ]
          },
          "metadata": {
            "tags": []
          },
          "execution_count": 16
        }
      ]
    },
    {
      "cell_type": "code",
      "metadata": {
        "id": "24wdcxhwY9hB"
      },
      "source": [
        "from sklearn.metrics import roc_curve, auc\n",
        "# Compute ROC curve and ROC area for each class\n",
        "fpr = dict()\n",
        "tpr = dict()\n",
        "roc_auc = dict()\n",
        "for i in range(27):\n",
        "    fpr[i], tpr[i], _ = roc_curve(y_test[:, i], m1_probs[:, i])\n",
        "    roc_auc[i] = auc(fpr[i], tpr[i])\n",
        "\n",
        "# Compute micro-average ROC curve and ROC area\n",
        "fpr[\"micro\"], tpr[\"micro\"], _ = roc_curve(y_test.ravel(), m1_probs.ravel())\n",
        "roc_auc[\"micro\"] = auc(fpr[\"micro\"], tpr[\"micro\"])"
      ],
      "execution_count": null,
      "outputs": []
    },
    {
      "cell_type": "code",
      "metadata": {
        "colab": {
          "base_uri": "https://localhost:8080/",
          "height": 295
        },
        "id": "MoM2t6bkardp",
        "outputId": "2f5e858f-35f1-44af-bc1d-dd903defe633"
      },
      "source": [
        "plt.figure()\n",
        "lw = 2\n",
        "clase = 21\n",
        "plt.plot(fpr[clase], tpr[clase], color='darkorange',\n",
        "         lw=lw, label='ROC curve (area = %0.2f)' % roc_auc[clase])\n",
        "plt.plot([0, 1], [0, 1], color='navy', lw=lw, linestyle='--')\n",
        "plt.xlim([0.0, 1.0])\n",
        "plt.ylim([0.0, 1.05])\n",
        "plt.xlabel('False Positive Rate')\n",
        "plt.ylabel('True Positive Rate')\n",
        "plt.title('Receiver operating characteristic example')\n",
        "plt.legend(loc=\"lower right\")\n",
        "plt.show()"
      ],
      "execution_count": null,
      "outputs": [
        {
          "output_type": "display_data",
          "data": {
            "image/png": "[encoded data removed]",
            "text/plain": [
              "<Figure size 432x288 with 1 Axes>"
            ]
          },
          "metadata": {
            "tags": [],
            "needs_background": "light"
          }
        }
      ]
    },
    {
      "cell_type": "code",
      "metadata": {
        "id": "vI1opJyQeAEn"
      },
      "source": [
        "clase = 21\n",
        "for clase, valor in roc_auc.items():\n",
        "  print(clase)\n",
        "  print(valor)"
      ],
      "execution_count": null,
      "outputs": []
    },
    {
      "cell_type": "code",
      "metadata": {
        "id": "7NNHrihRjriS"
      },
      "source": [
        "from sklearn.metrics import roc_curve, roc_auc_score\n",
        "from sklearn.metrics import roc_curve, auc\n",
        "\n",
        "m1_probs = clf.predict([X_test,X_test,qual_test])\n",
        "\n",
        "# Compute ROC curve and ROC area for each class\n",
        "fpr = dict()\n",
        "tpr = dict()\n",
        "roc_auc = dict()\n",
        "for i in range(27):\n",
        "    fpr[i], tpr[i], _ = roc_curve(y_test[:, i], m1_probs[:, i])\n",
        "    roc_auc[i] = auc(fpr[i], tpr[i])\n",
        "\n",
        "# Compute micro-average ROC curve and ROC area\n",
        "fpr[\"micro\"], tpr[\"micro\"], _ = roc_curve(y_test.ravel(), m1_probs.ravel())\n",
        "roc_auc[\"micro\"] = auc(fpr[\"micro\"], tpr[\"micro\"])\n",
        "\n",
        "plt.figure()\n",
        "lw = 2\n",
        "clase = 21\n",
        "plt.plot(fpr[clase], tpr[clase], color='darkorange',\n",
        "         lw=lw, label='ROC curve (area = %0.2f)' % roc_auc[clase])\n",
        "plt.plot([0, 1], [0, 1], color='navy', lw=lw, linestyle='--')\n",
        "plt.xlim([0.0, 1.0])\n",
        "plt.ylim([0.0, 1.05])\n",
        "plt.xlabel('False Positive Rate')\n",
        "plt.ylabel('True Positive Rate')\n",
        "plt.title('Receiver operating characteristic example')\n",
        "plt.legend(loc=\"lower right\")\n",
        "plt.show()\n",
        "\n",
        "clase = 21\n",
        "for clase, valor in roc_auc.items():\n",
        "  print(clase)\n",
        "  print(valor)\n"
      ],
      "execution_count": null,
      "outputs": []
    }
  ]
}